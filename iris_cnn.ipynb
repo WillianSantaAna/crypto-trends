{
 "cells": [
  {
   "cell_type": "code",
   "execution_count": 1,
   "source": [
    "from keras.models import Sequential\r\n",
    "from keras.layers import Dense, Conv1D, Flatten, MaxPooling1D\r\n",
    "from sklearn.model_selection import train_test_split\r\n",
    "from sklearn.metrics import confusion_matrix\r\n",
    "from sklearn.datasets import load_iris\r\n",
    "from numpy import unique\r\n",
    "from numpy.random import seed\r\n",
    "import tensorflow as tf\r\n",
    "\r\n",
    "seed(1)\r\n",
    "tf.random.set_seed(2)"
   ],
   "outputs": [],
   "metadata": {}
  },
  {
   "cell_type": "code",
   "execution_count": 2,
   "source": [
    "iris = load_iris()\r\n",
    "x, y = iris.data, iris.target\r\n",
    "print(x.shape)\r\n",
    "\r\n",
    "x = x.reshape(x.shape[0], x.shape[1], 1)\r\n",
    "print(x.shape)\r\n",
    "\r\n",
    "print(unique(y))\r\n",
    "print(unique(y).sum())"
   ],
   "outputs": [
    {
     "output_type": "stream",
     "name": "stdout",
     "text": [
      "(150, 4)\n",
      "(150, 4, 1)\n",
      "[0 1 2]\n",
      "3\n"
     ]
    }
   ],
   "metadata": {}
  },
  {
   "cell_type": "code",
   "execution_count": null,
   "source": [],
   "outputs": [],
   "metadata": {}
  },
  {
   "cell_type": "code",
   "execution_count": 3,
   "source": [
    "xtrain, xtest, ytrain, ytest=train_test_split(x, y, test_size=0.15)\r\n",
    "\r\n",
    "model = Sequential()\r\n",
    "model.add(Conv1D(64, 2, activation=\"relu\", input_shape=(4,1)))\r\n",
    "model.add(Dense(16, activation=\"relu\"))\r\n",
    "model.add(MaxPooling1D())\r\n",
    "model.add(Flatten())\r\n",
    "model.add(Dense(3, activation = 'softmax'))\r\n",
    "model.compile(loss = 'sparse_categorical_crossentropy',\r\n",
    "     optimizer = \"adam\",\r\n",
    "              metrics = ['accuracy'])\r\n",
    "model.summary()\r\n",
    "model.fit(xtrain, ytrain, batch_size=16,epochs=100, verbose=0)\r\n",
    "\r\n",
    "acc = model.evaluate(xtrain, ytrain)\r\n",
    "print(\"Loss:\", acc[0], \" Accuracy:\", acc[1])\r\n",
    "\r\n",
    "pred = model.predict(xtest)\r\n",
    "pred_y = pred.argmax(axis=-1)\r\n",
    "\r\n",
    "cm = confusion_matrix(ytest, pred_y)\r\n",
    "print(cm)"
   ],
   "outputs": [
    {
     "output_type": "stream",
     "name": "stdout",
     "text": [
      "Model: \"sequential\"\n",
      "_________________________________________________________________\n",
      "Layer (type)                 Output Shape              Param #   \n",
      "=================================================================\n",
      "conv1d (Conv1D)              (None, 3, 64)             192       \n",
      "_________________________________________________________________\n",
      "dense (Dense)                (None, 3, 16)             1040      \n",
      "_________________________________________________________________\n",
      "max_pooling1d (MaxPooling1D) (None, 1, 16)             0         \n",
      "_________________________________________________________________\n",
      "flatten (Flatten)            (None, 16)                0         \n",
      "_________________________________________________________________\n",
      "dense_1 (Dense)              (None, 3)                 51        \n",
      "=================================================================\n",
      "Total params: 1,283\n",
      "Trainable params: 1,283\n",
      "Non-trainable params: 0\n",
      "_________________________________________________________________\n",
      "4/4 [==============================] - 0s 1ms/step - loss: 0.1749 - accuracy: 0.9606\n",
      "Loss: 0.17488424479961395  Accuracy: 0.960629940032959\n",
      "[[8 0 0]\n",
      " [0 9 2]\n",
      " [0 1 3]]\n"
     ]
    }
   ],
   "metadata": {}
  }
 ],
 "metadata": {
  "orig_nbformat": 4,
  "language_info": {
   "name": "python",
   "version": "3.9.7",
   "mimetype": "text/x-python",
   "codemirror_mode": {
    "name": "ipython",
    "version": 3
   },
   "pygments_lexer": "ipython3",
   "nbconvert_exporter": "python",
   "file_extension": ".py"
  },
  "kernelspec": {
   "name": "python3",
   "display_name": "Python 3.9.7 64-bit ('lab': venv)"
  },
  "interpreter": {
   "hash": "6f987080815062b92e0d4194d9c61d2986c059e9c500745da0633f9971a73526"
  }
 },
 "nbformat": 4,
 "nbformat_minor": 2
}