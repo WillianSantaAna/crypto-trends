{
 "cells": [
  {
   "cell_type": "code",
   "execution_count": 2,
   "source": [
    "import mysql.connector"
   ],
   "outputs": [],
   "metadata": {}
  },
  {
   "cell_type": "code",
   "execution_count": 3,
   "source": [
    "connection = mysql.connector.connect(host='localhost',\r\n",
    "                                         database='finance_db',\r\n",
    "                                         user='root',\r\n",
    "                                         password='a1GhHG5h')"
   ],
   "outputs": [],
   "metadata": {}
  },
  {
   "cell_type": "code",
   "execution_count": 6,
   "source": [
    "c = connection.cursor()\r\n",
    "dir(c)"
   ],
   "outputs": [
    {
     "output_type": "execute_result",
     "data": {
      "text/plain": [
       "['__abstractmethods__',\n",
       " '__class__',\n",
       " '__delattr__',\n",
       " '__dict__',\n",
       " '__dir__',\n",
       " '__doc__',\n",
       " '__enter__',\n",
       " '__eq__',\n",
       " '__exit__',\n",
       " '__format__',\n",
       " '__ge__',\n",
       " '__getattribute__',\n",
       " '__gt__',\n",
       " '__hash__',\n",
       " '__init__',\n",
       " '__init_subclass__',\n",
       " '__iter__',\n",
       " '__le__',\n",
       " '__lt__',\n",
       " '__module__',\n",
       " '__ne__',\n",
       " '__new__',\n",
       " '__next__',\n",
       " '__reduce__',\n",
       " '__reduce_ex__',\n",
       " '__repr__',\n",
       " '__setattr__',\n",
       " '__sizeof__',\n",
       " '__str__',\n",
       " '__subclasshook__',\n",
       " '__weakref__',\n",
       " '_abc_impl',\n",
       " '_batch_insert',\n",
       " '_binary',\n",
       " '_check_executed',\n",
       " '_connection',\n",
       " '_description',\n",
       " '_execute_iter',\n",
       " '_executed',\n",
       " '_executed_list',\n",
       " '_fetch_row',\n",
       " '_fetch_warnings',\n",
       " '_handle_eof',\n",
       " '_handle_noresultset',\n",
       " '_handle_result',\n",
       " '_handle_resultset',\n",
       " '_handle_warnings',\n",
       " '_have_unread_result',\n",
       " '_last_insert_id',\n",
       " '_nextrow',\n",
       " '_process_params',\n",
       " '_process_params_dict',\n",
       " '_raw',\n",
       " '_reset_result',\n",
       " '_rowcount',\n",
       " '_set_connection',\n",
       " '_stored_results',\n",
       " '_warning_count',\n",
       " '_warnings',\n",
       " 'add_attribute',\n",
       " 'arraysize',\n",
       " 'callproc',\n",
       " 'clear_attributes',\n",
       " 'close',\n",
       " 'column_names',\n",
       " 'description',\n",
       " 'execute',\n",
       " 'executemany',\n",
       " 'fetchall',\n",
       " 'fetchmany',\n",
       " 'fetchone',\n",
       " 'fetchwarnings',\n",
       " 'get_attributes',\n",
       " 'getlastrowid',\n",
       " 'lastrowid',\n",
       " 'next',\n",
       " 'nextset',\n",
       " 'reset',\n",
       " 'rowcount',\n",
       " 'setinputsizes',\n",
       " 'setoutputsize',\n",
       " 'statement',\n",
       " 'stored_results',\n",
       " 'with_rows']"
      ]
     },
     "metadata": {},
     "execution_count": 6
    }
   ],
   "metadata": {}
  }
 ],
 "metadata": {
  "orig_nbformat": 4,
  "language_info": {
   "name": "python",
   "version": "3.9.7",
   "mimetype": "text/x-python",
   "codemirror_mode": {
    "name": "ipython",
    "version": 3
   },
   "pygments_lexer": "ipython3",
   "nbconvert_exporter": "python",
   "file_extension": ".py"
  },
  "kernelspec": {
   "name": "python3",
   "display_name": "Python 3.9.7 64-bit ('lab': venv)"
  },
  "interpreter": {
   "hash": "6f987080815062b92e0d4194d9c61d2986c059e9c500745da0633f9971a73526"
  }
 },
 "nbformat": 4,
 "nbformat_minor": 2
}