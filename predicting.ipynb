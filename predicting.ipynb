{
 "cells": [
  {
   "cell_type": "code",
   "execution_count": 1,
   "id": "ae60e3ab-ac58-463e-95cd-47368abd2ca2",
   "metadata": {},
   "outputs": [
    {
     "name": "stderr",
     "output_type": "stream",
     "text": [
      "2021-08-25 21:23:21.638897: W tensorflow/stream_executor/platform/default/dso_loader.cc:64] Could not load dynamic library 'libcudart.so.11.0'; dlerror: libcudart.so.11.0: cannot open shared object file: No such file or directory\n",
      "2021-08-25 21:23:21.638928: I tensorflow/stream_executor/cuda/cudart_stub.cc:29] Ignore above cudart dlerror if you do not have a GPU set up on your machine.\n"
     ]
    }
   ],
   "source": [
    "import pandas as pd\n",
    "import numpy as np\n",
    "import tensorflow as tf\n",
    "import talib as ta\n",
    "import json\n",
    "from pycoingecko import CoinGeckoAPI\n",
    "from datetime import datetime as dt, timedelta as td"
   ]
  },
  {
   "cell_type": "code",
   "execution_count": 2,
   "id": "1ed8d52b-47e0-4d91-9806-ea1366a5cc94",
   "metadata": {},
   "outputs": [],
   "source": [
    "config = {\n",
    "    'id': 'cardano',\n",
    "    'vs_curr': 'usd',\n",
    "    'range': 1\n",
    "}"
   ]
  },
  {
   "cell_type": "code",
   "execution_count": 3,
   "id": "ad8f2dd8-875d-4e70-9999-e2220550f2c5",
   "metadata": {},
   "outputs": [
    {
     "name": "stdout",
     "output_type": "stream",
     "text": [
      "[{'from': 1622147004.0, 'to': 1629923004.0}]\n"
     ]
    }
   ],
   "source": [
    "now = dt.strptime(dt.now().strftime(\"%Y-%m-%d %H:%M:%S\"),\"%Y-%m-%d %H:%M:%S\")\n",
    "timestamp_list = [{'from': dt.timestamp(now - td(days=(x+1)*90)), 'to': dt.timestamp(now - td(days=x*90))} for x in reversed(range(config['range']))]\n",
    "\n",
    "print(timestamp_list)"
   ]
  },
  {
   "cell_type": "code",
   "execution_count": 4,
   "id": "18f61a59-fc3e-44f8-a689-c9bf3afacf10",
   "metadata": {},
   "outputs": [
    {
     "name": "stdout",
     "output_type": "stream",
     "text": [
      "2161\n"
     ]
    }
   ],
   "source": [
    "cg = CoinGeckoAPI()\n",
    "temp_closes = []\n",
    "\n",
    "for timestamp in timestamp_list:\n",
    "    mk_chart = cg.get_coin_market_chart_range_by_id(id=config['id'], vs_currency=config['vs_curr'], from_timestamp=timestamp['from'], to_timestamp=timestamp['to'])\n",
    "    for i in range(len(mk_chart['prices'])):\n",
    "        temp_closes.append(mk_chart['prices'][i][1])\n",
    "\n",
    "closes = np.array(temp_closes)\n",
    "\n",
    "print(len(closes))"
   ]
  },
  {
   "cell_type": "code",
   "execution_count": 5,
   "id": "df300af7-35b9-4414-99fe-bc00a5d52af3",
   "metadata": {},
   "outputs": [],
   "source": [
    "sma_7 = ta.ROC(ta.SMA(closes, 7), timeperiod=1)\n",
    "sma_25 = ta.ROC(ta.SMA(closes, 25), timeperiod=1)\n",
    "sma_99 = ta.ROC(ta.SMA(closes, 99), timeperiod=1)\n",
    "ema_9 = ta.ROC(ta.EMA(closes, 9), timeperiod=1)\n",
    "ema_26 = ta.ROC(ta.EMA(closes, 26), timeperiod=1)\n",
    "bbands_up, bbands_mid, bbands_low = ta.BBANDS(closes, timeperiod=20, nbdevup=2, nbdevdn=2, matype=0)\n",
    "bbands_up = ta.ROC(bbands_up, timeperiod=1)\n",
    "bbands_mid = ta.ROC(bbands_mid, timeperiod=1)\n",
    "bbands_low = ta.ROC(bbands_low, timeperiod=1)\n",
    "rsi = ta.RSI(closes, 14)\n",
    "cmo = ta.CMO(closes, timeperiod=14)\n",
    "macd, macdsignal, macdhist = ta.MACD(closes, fastperiod=12, slowperiod=26, signalperiod=9)\n",
    "ppo = ta.PPO(closes, fastperiod=12, slowperiod=26, matype=0)\n",
    "roc = ta.ROC(closes, timeperiod=1)\n",
    "rocr = ta.ROCR(closes, timeperiod=1)\n",
    "linearreg = ta.ROC(ta.LINEARREG(closes, timeperiod=14), timeperiod=1)\n",
    "tsf = ta.ROC(ta.TSF(closes, timeperiod=14), timeperiod=1)"
   ]
  },
  {
   "cell_type": "code",
   "execution_count": 6,
   "id": "a5f3c20f-7ebd-4877-bd1c-f2fc266f61e2",
   "metadata": {},
   "outputs": [],
   "source": [
    "class_data = []\n",
    "\n",
    "for n in ta.ROC(closes, timeperiod=1):\n",
    "    if n < -3:\n",
    "        class_data.append('V_LOW')\n",
    "    elif -3 <= n <= 0:\n",
    "        class_data.append('LOW')\n",
    "    elif 0 < n <= 3:\n",
    "        class_data.append('HIGH')\n",
    "    else:\n",
    "        class_data.append('V_HIGH')"
   ]
  },
  {
   "cell_type": "code",
   "execution_count": 7,
   "id": "fc596cc3-f240-4e6a-8a91-4acaffaee596",
   "metadata": {},
   "outputs": [
    {
     "name": "stdout",
     "output_type": "stream",
     "text": [
      "[-0.30593225390241896, -0.31239347053846345, -0.08308840853957777, -0.2558507574552338, -0.2789594592992217, -0.16377397538690497, -0.3059896519898686, -0.4669341925046644, 33.87424903060466, -32.25150193879069, -0.005922676998446619, -0.0049817047493427085, -0.0009409722491039102, -2.8146085059065555, -1.5797716445210885, 0.9842022835547891, -0.13066749897572283, -0.07053034978212747]\n"
     ]
    }
   ],
   "source": [
    "data = [\n",
    "    sma_7[-1],\n",
    "    sma_25[-1],\n",
    "    sma_99[-1],\n",
    "    ema_9[-1],\n",
    "    ema_26[-1],\n",
    "    bbands_up[-1],\n",
    "    bbands_mid[-1],\n",
    "    bbands_low[-1],\n",
    "    rsi[-1],\n",
    "    cmo[-1],\n",
    "    macd[-1],\n",
    "    macdsignal[-1],\n",
    "    macdhist[-1],\n",
    "    ppo[-1],\n",
    "    roc[-1],\n",
    "    rocr[-1],\n",
    "    linearreg[-1],\n",
    "    tsf[-1]\n",
    "]\n",
    "\n",
    "df = [\n",
    "    sma_7[2138:-1],\n",
    "    sma_25[2138:-1],\n",
    "    sma_99[2138:-1],\n",
    "    ema_9[2138:-1],\n",
    "    ema_26[2138:-1],\n",
    "    bbands_up[2138:-1],\n",
    "    bbands_mid[2138:-1],\n",
    "    bbands_low[2138:-1],\n",
    "    rsi[2138:-1],\n",
    "    cmo[2138:-1],\n",
    "    macd[2138:-1],\n",
    "    macdsignal[2138:-1],\n",
    "    macdhist[2138:-1],\n",
    "    ppo[2138:-1],\n",
    "    roc[2138:-1],\n",
    "    rocr[2138:-1],\n",
    "    linearreg[2138:-1],\n",
    "    tsf[2138:-1],\n",
    "    np.array(class_data[2139::])\n",
    "]\n",
    "# print(df[:,1][0:-1])\n",
    "print([row[0] for row in df][0:-1])"
   ]
  },
  {
   "cell_type": "code",
   "execution_count": 8,
   "id": "4c88713c-9764-40ee-9ef6-4b003f7b4f67",
   "metadata": {},
   "outputs": [],
   "source": [
    "# Outras coisas que não são relevantes para o projecto\n",
    "#  - É possível guardar o modelo treinado e carregá-lo novamente\n",
    "#    - Tem de ser guardado em dois ficheiros\n",
    "#       - A estrutura em formato de JSON usando \"model.to_json()\" e gravando o modelo num ficheiro\n",
    "#          - Para ler a estrutura lê-se o ficheiro e depois usa-se \"tf.keras.models.model_from_json(json_savedModel)\"\n",
    "#       - Os pesos da rede usando o \"model.save_weights('iris_weights.h5')\"\n",
    "#          - Para ler os pesos usa-se \"model.load_weights('iris_weights.h5')\"\n",
    "#  - É possível fazer previsões usando \"model.predict(np.array([[5.9, 3.0,\t4.3, 1.5]]))\"\n",
    "#     - O resultado são logits que têm de ser convertidos em probabilidades usando \"tf.nn.softmax(logits)\"\n",
    "#     - O predict só recebe as features, a label não é conhecida (é o que pretendemos saber)\n",
    "\n",
    "# Estes elementos não são necessários para o projecto pois só necessitam dos valores para\n",
    "# fazer gráficos e tabelas\n",
    "# Caso tenham curiosidade sobre estes pontos extra falem com o docente\n",
    "\n",
    "# json_model = model.to_json()\n",
    "\n",
    "# with open(\"models/btc_model.json\", \"r\") as outfile:\n",
    "#     outfile.write(json_model)\n",
    "\n",
    "# model.save_weights(\"models/\" + symbol + \"_weights.h5\")"
   ]
  },
  {
   "cell_type": "code",
   "execution_count": 12,
   "id": "f1f527db-bd38-46fd-b1ff-763069287695",
   "metadata": {},
   "outputs": [
    {
     "name": "stdout",
     "output_type": "stream",
     "text": [
      "tf.Tensor([[7.0210108e-19 9.3655008e-01 6.3449942e-02 4.8418994e-17]], shape=(1, 4), dtype=float32)\n",
      "LOW\n"
     ]
    }
   ],
   "source": [
    "with open(\"models/ada_model.json\", \"r\") as json_file:\n",
    "    i = 3\n",
    "    model = tf.keras.models.model_from_json(json_file.read())\n",
    "    model.load_weights(\"models/ada_weights.h5\")\n",
    "    logits = model.predict(np.array([[row[i] for row in df][0:-1]]))\n",
    "    \n",
    "    print(tf.nn.softmax(logits))\n",
    "    print([row[i] for row in df][-1])\n"
   ]
  },
  {
   "cell_type": "code",
   "execution_count": null,
   "id": "3d1b68de-88a9-4a48-bba9-1ee3d36a220d",
   "metadata": {},
   "outputs": [],
   "source": []
  }
 ],
 "metadata": {
  "kernelspec": {
   "display_name": "Python 3 (ipykernel)",
   "language": "python",
   "name": "python3"
  },
  "language_info": {
   "codemirror_mode": {
    "name": "ipython",
    "version": 3
   },
   "file_extension": ".py",
   "mimetype": "text/x-python",
   "name": "python",
   "nbconvert_exporter": "python",
   "pygments_lexer": "ipython3",
   "version": "3.9.6"
  }
 },
 "nbformat": 4,
 "nbformat_minor": 5
}
