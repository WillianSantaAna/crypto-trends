{
 "cells": [
  {
   "cell_type": "code",
   "execution_count": 1,
   "id": "0add46cf-1fae-4ddb-9f95-b726281d906c",
   "metadata": {},
   "outputs": [],
   "source": [
    "import pandas as pd\n",
    "import numpy as np\n",
    "import talib as ta\n",
    "from pycoingecko import CoinGeckoAPI\n",
    "from datetime import datetime as dt, timedelta as td"
   ]
  },
  {
   "cell_type": "code",
   "execution_count": 2,
   "id": "f86145f4-f3e3-43e9-a209-7c93574327cb",
   "metadata": {},
   "outputs": [],
   "source": [
    "config = {\n",
    "    'id': 'bitcoin',\n",
    "    'vs_curr': 'usd',\n",
    "    'range': 24, # max 24\n",
    "    'save_csv_path': 'datasets/crypto_ta_btc_02.csv'\n",
    "}"
   ]
  },
  {
   "cell_type": "code",
   "execution_count": 3,
   "id": "d28554d4-ab21-41bd-932a-0971f3780505",
   "metadata": {},
   "outputs": [
    {
     "name": "stdout",
     "output_type": "stream",
     "text": [
      "[{'from': 1444485600.0, 'to': 1452265200.0}, {'from': 1452265200.0, 'to': 1460037600.0}, {'from': 1460037600.0, 'to': 1467813600.0}, {'from': 1467813600.0, 'to': 1475589600.0}, {'from': 1475589600.0, 'to': 1483369200.0}, {'from': 1483369200.0, 'to': 1491141600.0}, {'from': 1491141600.0, 'to': 1498917600.0}, {'from': 1498917600.0, 'to': 1506693600.0}, {'from': 1506693600.0, 'to': 1514473200.0}, {'from': 1514473200.0, 'to': 1522245600.0}, {'from': 1522245600.0, 'to': 1530021600.0}, {'from': 1530021600.0, 'to': 1537797600.0}, {'from': 1537797600.0, 'to': 1545577200.0}, {'from': 1545577200.0, 'to': 1553353200.0}, {'from': 1553353200.0, 'to': 1561125600.0}, {'from': 1561125600.0, 'to': 1568901600.0}, {'from': 1568901600.0, 'to': 1576681200.0}, {'from': 1576681200.0, 'to': 1584457200.0}, {'from': 1584457200.0, 'to': 1592229600.0}, {'from': 1592229600.0, 'to': 1600005600.0}, {'from': 1600005600.0, 'to': 1607785200.0}, {'from': 1607785200.0, 'to': 1615561200.0}, {'from': 1615561200.0, 'to': 1623333600.0}, {'from': 1623333600.0, 'to': 1631109600.0}]\n"
     ]
    }
   ],
   "source": [
    "now = dt.strptime(dt.now().strftime(\"%Y-%m-%d %H:00:00\"),\"%Y-%m-%d %H:00:00\")\n",
    "timestamp_list = [{'from': dt.timestamp(now - td(days=(x+1)*90)), 'to': dt.timestamp(now - td(days=x*90))} for x in reversed(range(config['range']))]\n",
    "\n",
    "print(timestamp_list)"
   ]
  },
  {
   "cell_type": "code",
   "execution_count": 4,
   "id": "b88df59f-84ea-4f21-88c9-a511d2bb8ef2",
   "metadata": {},
   "outputs": [
    {
     "name": "stdout",
     "output_type": "stream",
     "text": [
      "[  245.3209       247.5392       245.5661     ... 52643.0475473\n",
      " 52592.264954   52693.78878816]\n",
      "[8.91650697e+07 7.92682217e+07 1.08125414e+08 ... 3.90660348e+10\n",
      " 3.96247676e+10 3.98123294e+10]\n"
     ]
    }
   ],
   "source": [
    "cg = CoinGeckoAPI()\n",
    "temp_closes = []\n",
    "temp_volumes = []\n",
    "\n",
    "bitcoin_close = pd.read_csv('bitcoin_close_full.csv')\n",
    "\n",
    "# for timestamp in timestamp_list:\n",
    "#     mk_chart = cg.get_coin_market_chart_range_by_id(id=config['id'], vs_currency=config['vs_curr'], from_timestamp=timestamp['from'], to_timestamp=timestamp['to'])\n",
    "#     for i in range(len(mk_chart['prices'])):\n",
    "#         temp_closes.append(mk_chart['prices'][i][1])\n",
    "#         temp_volumes.append(mk_chart['total_volumes'][i][1])\n",
    "\n",
    "closes = np.array(bitcoin_close['closes'])\n",
    "volumes = np.array(bitcoin_close['volumes'])\n",
    "\n",
    "print(closes)\n",
    "print(volumes)"
   ]
  },
  {
   "cell_type": "code",
   "execution_count": 5,
   "id": "9989d38f-2313-4684-bacd-804adf1379ff",
   "metadata": {},
   "outputs": [],
   "source": [
    "sma_200 = ta.SMA(closes, 200)\n",
    "ema_8 = ta.EMA(closes, 8)\n",
    "ema_20 = ta.EMA(closes, 20)\n",
    "ema_25 = ta.EMA(closes, 25)\n",
    "ema_30 = ta.EMA(closes, 30)\n",
    "ema_35 = ta.EMA(closes, 35)\n",
    "ema_40 = ta.EMA(closes, 40)\n",
    "ema_45 = ta.EMA(closes, 45)\n",
    "ema_50 = ta.EMA(closes, 50)\n",
    "sma_vol = ta.SMA(volumes, 20)\n",
    "bbands_up, bbands_mid, bbands_low = ta.BBANDS(closes, timeperiod=20, nbdevup=2, nbdevdn=2, matype=0)\n",
    "cmo = ta.CMO(closes, timeperiod=14)\n",
    "macd, macdsignal, macdhist = ta.MACD(closes, fastperiod=12, slowperiod=26, signalperiod=9)\n",
    "macdhist = ta.ROC(macdhist, timeperiod=1)\n",
    "ppo = ta.PPO(closes, fastperiod=12, slowperiod=26, matype=0)\n",
    "linearreg = ta.LINEARREG(closes, timeperiod=14)\n",
    "tsf = ta.TSF(closes, timeperiod=14)"
   ]
  },
  {
   "cell_type": "code",
   "execution_count": 12,
   "id": "defe1e37-dff7-49cf-9f30-8b4fe027dece",
   "metadata": {},
   "outputs": [
    {
     "name": "stdout",
     "output_type": "stream",
     "text": [
      "22908\n"
     ]
    }
   ],
   "source": [
    "class_data = []\n",
    "roc = ta.ROC(closes, timeperiod=1)\n",
    "\n",
    "for n in range(0,len(roc)):\n",
    "    if n + 2 < len(roc):\n",
    "        if roc[n] < 0 and roc[n+1] < 0 and roc[n+2] < 0:\n",
    "            class_data.append('LOW')\n",
    "        elif roc[n] > 0 and roc[n+1] > 0 and roc[n+2] > 0:\n",
    "            class_data.append('HIGH')\n",
    "        else:\n",
    "            class_data.append('NEUTRAL')\n",
    "            \n",
    "print(len(class_data))"
   ]
  },
  {
   "cell_type": "code",
   "execution_count": 13,
   "id": "2f5ef5f1-bc37-4715-842f-31f3f0626ecf",
   "metadata": {},
   "outputs": [
    {
     "name": "stdout",
     "output_type": "stream",
     "text": [
      "              price       sma_200         ema_8        ema_20        ema_25  \\\n",
      "0        444.789000    391.802118    451.280749    440.756688    437.772289   \n",
      "1        449.381000    392.811327    450.858583    441.578051    438.665267   \n",
      "2        456.566000    393.866327    452.126898    443.005475    440.042247   \n",
      "3        447.903000    394.858816    451.188254    443.471906    440.646920   \n",
      "4        452.592000    395.858298    451.500197    444.340486    441.565772   \n",
      "...             ...           ...           ...           ...           ...   \n",
      "22702  52503.990058  49336.460548  51947.661405  51682.754196  51584.076441   \n",
      "22703  52739.800166  49356.476479  52123.692241  51783.425241  51672.978266   \n",
      "22704  52449.901543  49374.585791  52196.183197  51846.899174  51732.741595   \n",
      "22705  52506.302531  49393.184464  52265.098604  51909.699494  51792.246282   \n",
      "22706  52774.412756  49412.868820  52378.279527  51992.053138  51867.797549   \n",
      "\n",
      "             ema_30        ema_35        ema_40        ema_45        ema_50  \\\n",
      "0        435.337879    433.294637    431.533509    429.976983    428.562492   \n",
      "1        436.243887    434.188324    432.404118    430.820636    429.378904   \n",
      "2        437.554991    435.431528    433.582747    431.940000    430.445064   \n",
      "3        438.222604    436.124388    434.281296    432.634043    431.129689   \n",
      "4        439.149662    437.039255    435.174501    433.501781    431.971348   \n",
      "...             ...           ...           ...           ...           ...   \n",
      "22702  51488.767144  51398.270320  51312.806453  51231.972698  51155.195982   \n",
      "22703  51569.478952  51472.799756  51382.415903  51297.530414  51217.337322   \n",
      "22704  51626.280410  51527.083188  51434.488373  51347.633507  51265.673174   \n",
      "22705  51683.056030  51581.484263  51486.771991  51398.010421  51314.325306   \n",
      "22706  51753.466142  51647.758068  51549.583735  51457.854000  51371.583637   \n",
      "\n",
      "       ...    bbands_mid    bbands_low        cmo        macd  macdsignal  \\\n",
      "0      ...    436.643350    406.509834  11.508362    9.974195    8.023714   \n",
      "1      ...    438.188700    408.779503  16.962188    9.407627    8.300497   \n",
      "2      ...    440.209750    411.592930  24.774405    9.429688    8.526335   \n",
      "3      ...    441.548250    414.147359  11.191402    8.648446    8.550757   \n",
      "4      ...    443.048650    416.699678  16.490509    8.311856    8.502977   \n",
      "...    ...           ...           ...        ...         ...         ...   \n",
      "22702  ...  51714.566439  51217.515783  49.921845  280.537002  253.032922   \n",
      "22703  ...  51774.488456  51113.491107  55.399286  331.119421  268.650222   \n",
      "22704  ...  51815.468884  51096.248464  35.742456  343.850265  283.690231   \n",
      "22705  ...  51854.373458  51076.458816  37.401484  354.405275  297.833240   \n",
      "22706  ...  51901.290956  51026.320333  44.709381  380.023774  314.271347   \n",
      "\n",
      "         macdhist       ppo     linearreg           tsf    trend  \n",
      "0      -44.011506  2.970577    462.048771    464.956484  NEUTRAL  \n",
      "1      -43.238067  3.053514    461.049000    463.534231  NEUTRAL  \n",
      "2      -18.405888  3.250285    461.917400    464.243923  NEUTRAL  \n",
      "3      -89.185964  3.361591    459.937457    461.772978  NEUTRAL  \n",
      "4     -295.642849  3.398493    458.262343    459.570209  NEUTRAL  \n",
      "...           ...       ...           ...           ...      ...  \n",
      "22702 -368.273792  0.015009  52033.590685  52080.616893  NEUTRAL  \n",
      "22703  127.127029  0.149488  52305.617668  52384.284569  NEUTRAL  \n",
      "22704   -3.696485  0.280139  52470.748041  52567.349068  NEUTRAL  \n",
      "22705   -5.964090  0.389547  52575.941006  52676.403142  NEUTRAL  \n",
      "22706   16.227791  0.488742  52709.947544  52815.135016  NEUTRAL  \n",
      "\n",
      "[22707 rows x 22 columns]\n"
     ]
    }
   ],
   "source": [
    "# orig_dt = pd.DataFrame({'closes': closes, 'volumes': volumes})\n",
    "dt = pd.DataFrame({\n",
    "    'price': closes[200:-3],\n",
    "    'sma_200': sma_200[200:-3],\n",
    "    'ema_8': ema_8[200:-3],\n",
    "    'ema_20': ema_20[200:-3],\n",
    "    'ema_25': ema_25[200:-3],\n",
    "    'ema_30': ema_30[200:-3],\n",
    "    'ema_35': ema_35[200:-3],\n",
    "    'ema_40': ema_40[200:-3],\n",
    "    'ema_45': ema_45[200:-3],\n",
    "    'ema_50': ema_50[200:-3],\n",
    "    'sma_vol': sma_vol[200:-3],\n",
    "    'bbands_up': bbands_up[200:-3],\n",
    "    'bbands_mid': bbands_mid[200:-3],\n",
    "    'bbands_low': bbands_low[200:-3],\n",
    "    'cmo': cmo[200:-3],\n",
    "    'macd': macd[200:-3],\n",
    "    'macdsignal': macdsignal[200:-3],\n",
    "    'macdhist': macdhist[200:-3],\n",
    "    'ppo': ppo[200:-3],\n",
    "    'linearreg': linearreg[200:-3],\n",
    "    'tsf': tsf[200:-3],\n",
    "    'trend': np.array(class_data[201::]) # tirado 2 valores do final\n",
    "})\n",
    "\n",
    "dt.describe()\n",
    "print(dt)"
   ]
  },
  {
   "cell_type": "code",
   "execution_count": 14,
   "id": "8870ecd3-c22a-4c1d-9752-0c6ed7c6c7ba",
   "metadata": {},
   "outputs": [],
   "source": [
    "dt.to_csv(config['save_csv_path'], index=False)\n",
    "# orig_dt.to_csv('bitcoin_close_full.csv', index=False)"
   ]
  },
  {
   "cell_type": "code",
   "execution_count": null,
   "id": "8d576c8a-b248-4388-820c-f0430216617c",
   "metadata": {},
   "outputs": [],
   "source": []
  }
 ],
 "metadata": {
  "kernelspec": {
   "display_name": "Python 3",
   "language": "python",
   "name": "python3"
  },
  "language_info": {
   "codemirror_mode": {
    "name": "ipython",
    "version": 3
   },
   "file_extension": ".py",
   "mimetype": "text/x-python",
   "name": "python",
   "nbconvert_exporter": "python",
   "pygments_lexer": "ipython3",
   "version": "3.8.10"
  }
 },
 "nbformat": 4,
 "nbformat_minor": 5
}
