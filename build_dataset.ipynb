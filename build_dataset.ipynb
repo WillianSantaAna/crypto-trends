{
 "cells": [
  {
   "cell_type": "code",
   "execution_count": 1,
   "id": "0add46cf-1fae-4ddb-9f95-b726281d906c",
   "metadata": {},
   "outputs": [],
   "source": [
    "import pandas as pd\n",
    "import numpy as np\n",
    "import talib as ta\n",
    "from pycoingecko import CoinGeckoAPI\n",
    "from datetime import datetime as dt, timedelta as td"
   ]
  },
  {
   "cell_type": "code",
   "execution_count": 2,
   "id": "f86145f4-f3e3-43e9-a209-7c93574327cb",
   "metadata": {},
   "outputs": [],
   "source": [
    "config = {\n",
    "    'id': 'cardano',\n",
    "    'vs_curr': 'usd',\n",
    "    'range': 24, # max 24\n",
    "    'save_csv_path': 'crypto_ta_ada.csv'\n",
    "}"
   ]
  },
  {
   "cell_type": "code",
   "execution_count": 3,
   "id": "d28554d4-ab21-41bd-932a-0971f3780505",
   "metadata": {},
   "outputs": [
    {
     "name": "stdout",
     "output_type": "stream",
     "text": [
      "[{'from': 1443873600.0, 'to': 1451653200.0}, {'from': 1451653200.0, 'to': 1459425600.0}, {'from': 1459425600.0, 'to': 1467201600.0}, {'from': 1467201600.0, 'to': 1474977600.0}, {'from': 1474977600.0, 'to': 1482757200.0}, {'from': 1482757200.0, 'to': 1490529600.0}, {'from': 1490529600.0, 'to': 1498305600.0}, {'from': 1498305600.0, 'to': 1506081600.0}, {'from': 1506081600.0, 'to': 1513861200.0}, {'from': 1513861200.0, 'to': 1521637200.0}, {'from': 1521637200.0, 'to': 1529409600.0}, {'from': 1529409600.0, 'to': 1537185600.0}, {'from': 1537185600.0, 'to': 1544965200.0}, {'from': 1544965200.0, 'to': 1552741200.0}, {'from': 1552741200.0, 'to': 1560513600.0}, {'from': 1560513600.0, 'to': 1568289600.0}, {'from': 1568289600.0, 'to': 1576069200.0}, {'from': 1576069200.0, 'to': 1583845200.0}, {'from': 1583845200.0, 'to': 1591617600.0}, {'from': 1591617600.0, 'to': 1599393600.0}, {'from': 1599393600.0, 'to': 1607173200.0}, {'from': 1607173200.0, 'to': 1614949200.0}, {'from': 1614949200.0, 'to': 1622721600.0}, {'from': 1622721600.0, 'to': 1630497600.0}]\n"
     ]
    }
   ],
   "source": [
    "now = dt.strptime(dt.now().strftime(\"%Y-%m-%d %H:00:00\"),\"%Y-%m-%d %H:00:00\")\n",
    "timestamp_list = [{'from': dt.timestamp(now - td(days=(x+1)*90)), 'to': dt.timestamp(now - td(days=x*90))} for x in reversed(range(config['range']))]\n",
    "\n",
    "print(timestamp_list)"
   ]
  },
  {
   "cell_type": "code",
   "execution_count": 4,
   "id": "b88df59f-84ea-4f21-88c9-a511d2bb8ef2",
   "metadata": {},
   "outputs": [
    {
     "name": "stdout",
     "output_type": "stream",
     "text": [
      "[0.02684535 0.02682995 0.03029961 ... 2.783313   2.83705945 2.82530718]\n",
      "[2.35167812e+06 2.81515597e+06 8.88347308e+06 ... 3.88282632e+09\n",
      " 4.00191086e+09 4.15833457e+09]\n"
     ]
    }
   ],
   "source": [
    "cg = CoinGeckoAPI()\n",
    "temp_closes = []\n",
    "temp_volumes = []\n",
    "\n",
    "for timestamp in timestamp_list:\n",
    "    mk_chart = cg.get_coin_market_chart_range_by_id(id=config['id'], vs_currency=config['vs_curr'], from_timestamp=timestamp['from'], to_timestamp=timestamp['to'])\n",
    "    for i in range(len(mk_chart['prices'])):\n",
    "        temp_closes.append(mk_chart['prices'][i][1])\n",
    "        temp_volumes.append(mk_chart['total_volumes'][i][1])\n",
    "\n",
    "closes = np.array(temp_closes)\n",
    "volumes = np.array(temp_volumes)\n",
    "\n",
    "print(closes)\n",
    "print(volumes)"
   ]
  },
  {
   "cell_type": "code",
   "execution_count": 5,
   "id": "9989d38f-2313-4684-bacd-804adf1379ff",
   "metadata": {},
   "outputs": [],
   "source": [
    "sma_7 = ta.ROC(ta.SMA(closes, 7), timeperiod=1)\n",
    "sma_25 = ta.ROC(ta.SMA(closes, 25), timeperiod=1)\n",
    "sma_99 = ta.ROC(ta.SMA(closes, 99), timeperiod=1)\n",
    "sma_200 = ta.ROC(ta.SMA(closes, 200), timeperiod=1)\n",
    "ema_9 = ta.ROC(ta.EMA(closes, 9), timeperiod=1)\n",
    "ema_26 = ta.ROC(ta.EMA(closes, 26), timeperiod=1)\n",
    "sma_vol = ta.ROC(ta.SMA(volumes, 20), timeperiod=1)\n",
    "bbands_up, bbands_mid, bbands_low = ta.BBANDS(closes, timeperiod=20, nbdevup=2, nbdevdn=2, matype=0)\n",
    "bbands_up = ta.ROC(bbands_up, timeperiod=1)\n",
    "bbands_mid = ta.ROC(bbands_mid, timeperiod=1)\n",
    "bbands_low = ta.ROC(bbands_low, timeperiod=1)\n",
    "rsi = ta.RSI(closes, 14)\n",
    "cmo = ta.CMO(closes, timeperiod=14)\n",
    "macd, macdsignal, macdhist = ta.MACD(closes, fastperiod=12, slowperiod=26, signalperiod=9)\n",
    "ppo = ta.PPO(closes, fastperiod=12, slowperiod=26, matype=0)\n",
    "roc = ta.ROC(closes, timeperiod=1)\n",
    "linearreg = ta.ROC(ta.LINEARREG(closes, timeperiod=14), timeperiod=1)\n",
    "tsf = ta.ROC(ta.TSF(closes, timeperiod=14), timeperiod=1)"
   ]
  },
  {
   "cell_type": "code",
   "execution_count": 6,
   "id": "defe1e37-dff7-49cf-9f30-8b4fe027dece",
   "metadata": {},
   "outputs": [],
   "source": [
    "class_data = []\n",
    "\n",
    "for n in ta.ROC(closes, timeperiod=6):\n",
    "    if n < -3:\n",
    "        class_data.append('V_LOW')\n",
    "    elif -3 <= n <= 0:\n",
    "        class_data.append('LOW')\n",
    "    elif 0 < n <= 3:\n",
    "        class_data.append('HIGH')\n",
    "    else:\n",
    "        class_data.append('V_HIGH')"
   ]
  },
  {
   "cell_type": "code",
   "execution_count": 7,
   "id": "2f5ef5f1-bc37-4715-842f-31f3f0626ecf",
   "metadata": {},
   "outputs": [
    {
     "name": "stdout",
     "output_type": "stream",
     "text": [
      "          sma_7    sma_25    sma_99   sma_200     ema_9    ema_26   sma_vol  \\\n",
      "0     -0.554958  2.531938 -0.999672  0.526531  0.037076  1.278710 -8.327822   \n",
      "1     -0.275160  1.636650 -0.925994  0.494158 -0.816688  0.806651 -5.955354   \n",
      "2     -1.378247  1.629559 -0.963406  0.474333 -1.379964  0.437072 -1.792471   \n",
      "3     -2.164224  1.519429 -0.678862  0.463992 -1.461086  0.261597 -2.650524   \n",
      "4     -3.171230  0.954201 -0.751381  0.431485 -2.418561 -0.259445 -3.753348   \n",
      "...         ...       ...       ...       ...       ...       ...       ...   \n",
      "21950 -0.061417  0.008598 -0.047778 -0.031060 -0.270287 -0.128994 -0.102366   \n",
      "21951 -0.119051  0.052130 -0.061668 -0.026206 -0.065570 -0.063877  0.282723   \n",
      "21952 -0.072742  0.033127 -0.048956 -0.022746 -0.024800 -0.048982  0.309924   \n",
      "21953 -0.038156 -0.031774 -0.043034 -0.028179 -0.046028 -0.055024 -0.633501   \n",
      "21954  0.023975 -0.039733 -0.027076 -0.029524  0.044772 -0.020902 -0.658472   \n",
      "\n",
      "       bbands_up  bbands_mid  bbands_low        rsi        cmo      macd  \\\n",
      "0       0.519848    1.488042    3.180308  62.130607  24.261214  0.038312   \n",
      "1      -0.590875    1.434539    4.883398  57.948871  15.897743  0.035037   \n",
      "2      -0.563702    0.954563    3.404918  54.603625   9.207249  0.031077   \n",
      "3      -0.451834    0.670715    2.412885  53.062467   6.124934  0.027156   \n",
      "4      -0.010592    0.014049    0.051220  47.888921  -4.222159  0.022123   \n",
      "...          ...         ...         ...        ...        ...       ...   \n",
      "21950   0.059672   -0.096890   -0.259268  40.889366 -18.221268 -0.011254   \n",
      "21951   0.007769   -0.029463   -0.068201  45.453401  -9.093198 -0.011439   \n",
      "21952  -0.011770    0.014194    0.041228  46.270804  -7.458392 -0.011148   \n",
      "21953  -0.158915   -0.109989   -0.059072  45.575521  -8.848958 -0.011082   \n",
      "21954  -0.171784   -0.085838    0.003516  48.187753  -3.624493 -0.010003   \n",
      "\n",
      "       macdsignal  macdhist        ppo       roc  linearreg       tsf  trend  \n",
      "0        0.037133  0.001179  16.642994 -4.456943  -0.430664 -0.670405  V_LOW  \n",
      "1        0.036714 -0.001677  15.909867 -4.225425  -1.794284 -2.166744  V_LOW  \n",
      "2        0.035586 -0.004509  15.082798 -3.728990  -2.060830 -2.369606  V_LOW  \n",
      "3        0.033900 -0.006744  14.119278 -1.809620  -4.285726 -5.029328  V_LOW  \n",
      "4        0.031545 -0.009422  11.142288 -6.550305  -5.410401 -6.229155  V_LOW  \n",
      "...           ...       ...        ...       ...        ...       ...    ...  \n",
      "21950   -0.008456 -0.002798  -0.277298 -1.590917  -0.347593 -0.375432   HIGH  \n",
      "21951   -0.009052 -0.002387  -0.476082  0.764518   0.164155  0.226915   HIGH  \n",
      "21952   -0.009471 -0.001676  -0.546149  0.138815   0.110557  0.148981   HIGH  \n",
      "21953   -0.009793 -0.001288  -0.639409 -0.131043   0.116004  0.155423   HIGH  \n",
      "21954   -0.009835 -0.000168  -0.644548  0.408810   0.042927  0.048488   HIGH  \n",
      "\n",
      "[21955 rows x 20 columns]\n"
     ]
    }
   ],
   "source": [
    "dt = pd.DataFrame({\n",
    "    'sma_7': sma_7[201:-6],\n",
    "    'sma_25': sma_25[201:-6],\n",
    "    'sma_99': sma_99[201:-6],\n",
    "    'sma_200': sma_200[201:-6],\n",
    "    'ema_9': ema_9[201:-6],\n",
    "    'ema_26': ema_26[201:-6],\n",
    "    'sma_vol': sma_vol[201:-6],\n",
    "    'bbands_up': bbands_up[201:-6],\n",
    "    'bbands_mid': bbands_mid[201:-6],\n",
    "    'bbands_low': bbands_low[201:-6],\n",
    "    'rsi': rsi[201:-6],\n",
    "    'cmo': cmo[201:-6],\n",
    "    'macd': macd[201:-6],\n",
    "    'macdsignal': macdsignal[201:-6],\n",
    "    'macdhist': macdhist[201:-6],\n",
    "    'ppo': ppo[201:-6],\n",
    "    'roc': roc[201:-6],\n",
    "    'linearreg': linearreg[201:-6],\n",
    "    'tsf': tsf[201:-6],\n",
    "    'trend': np.array(class_data[207::])\n",
    "})\n",
    "\n",
    "dt.describe()\n",
    "print(dt)"
   ]
  },
  {
   "cell_type": "code",
   "execution_count": 8,
   "id": "8870ecd3-c22a-4c1d-9752-0c6ed7c6c7ba",
   "metadata": {},
   "outputs": [],
   "source": [
    "dt.to_csv(config['save_csv_path'], index=False)"
   ]
  },
  {
   "cell_type": "code",
   "execution_count": null,
   "id": "8d576c8a-b248-4388-820c-f0430216617c",
   "metadata": {},
   "outputs": [],
   "source": []
  }
 ],
 "metadata": {
  "kernelspec": {
   "display_name": "Python 3 (ipykernel)",
   "language": "python",
   "name": "python3"
  },
  "language_info": {
   "codemirror_mode": {
    "name": "ipython",
    "version": 3
   },
   "file_extension": ".py",
   "mimetype": "text/x-python",
   "name": "python",
   "nbconvert_exporter": "python",
   "pygments_lexer": "ipython3",
   "version": "3.9.2"
  }
 },
 "nbformat": 4,
 "nbformat_minor": 5
}
