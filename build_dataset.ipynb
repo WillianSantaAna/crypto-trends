{
 "cells": [
  {
   "cell_type": "code",
   "execution_count": 1,
   "id": "0add46cf-1fae-4ddb-9f95-b726281d906c",
   "metadata": {},
   "outputs": [],
   "source": [
    "import pandas as pd\n",
    "import numpy as np\n",
    "import talib as ta\n",
    "from pycoingecko import CoinGeckoAPI\n",
    "from datetime import datetime as dt, timedelta as td"
   ]
  },
  {
   "cell_type": "code",
   "execution_count": 2,
   "id": "f86145f4-f3e3-43e9-a209-7c93574327cb",
   "metadata": {},
   "outputs": [],
   "source": [
    "config = {\n",
    "    'id': 'bitcoin',\n",
    "    'vs_curr': 'usd',\n",
    "    'range': 40, # max 24\n",
    "    'save_csv_path': 'datasets/crypto_ta_btc_04.csv'\n",
    "}"
   ]
  },
  {
   "cell_type": "code",
   "execution_count": 3,
   "id": "d28554d4-ab21-41bd-932a-0971f3780505",
   "metadata": {},
   "outputs": [
    {
     "name": "stdout",
     "output_type": "stream",
     "text": [
      "[{'from': 1428447600.0, 'to': 1433631600.0}, {'from': 1433631600.0, 'to': 1438815600.0}, {'from': 1438815600.0, 'to': 1443999600.0}, {'from': 1443999600.0, 'to': 1449187200.0}, {'from': 1449187200.0, 'to': 1454371200.0}, {'from': 1454371200.0, 'to': 1459551600.0}, {'from': 1459551600.0, 'to': 1464735600.0}, {'from': 1464735600.0, 'to': 1469919600.0}, {'from': 1469919600.0, 'to': 1475103600.0}, {'from': 1475103600.0, 'to': 1480291200.0}, {'from': 1480291200.0, 'to': 1485475200.0}, {'from': 1485475200.0, 'to': 1490655600.0}, {'from': 1490655600.0, 'to': 1495839600.0}, {'from': 1495839600.0, 'to': 1501023600.0}, {'from': 1501023600.0, 'to': 1506207600.0}, {'from': 1506207600.0, 'to': 1511395200.0}, {'from': 1511395200.0, 'to': 1516579200.0}, {'from': 1516579200.0, 'to': 1521763200.0}, {'from': 1521763200.0, 'to': 1526943600.0}, {'from': 1526943600.0, 'to': 1532127600.0}, {'from': 1532127600.0, 'to': 1537311600.0}, {'from': 1537311600.0, 'to': 1542499200.0}, {'from': 1542499200.0, 'to': 1547683200.0}, {'from': 1547683200.0, 'to': 1552867200.0}, {'from': 1552867200.0, 'to': 1558047600.0}, {'from': 1558047600.0, 'to': 1563231600.0}, {'from': 1563231600.0, 'to': 1568415600.0}, {'from': 1568415600.0, 'to': 1573603200.0}, {'from': 1573603200.0, 'to': 1578787200.0}, {'from': 1578787200.0, 'to': 1583971200.0}, {'from': 1583971200.0, 'to': 1589151600.0}, {'from': 1589151600.0, 'to': 1594335600.0}, {'from': 1594335600.0, 'to': 1599519600.0}, {'from': 1599519600.0, 'to': 1604707200.0}, {'from': 1604707200.0, 'to': 1609891200.0}, {'from': 1609891200.0, 'to': 1615075200.0}, {'from': 1615075200.0, 'to': 1620255600.0}, {'from': 1620255600.0, 'to': 1625439600.0}, {'from': 1625439600.0, 'to': 1630623600.0}, {'from': 1630623600.0, 'to': 1635811200.0}]\n"
     ]
    }
   ],
   "source": [
    "now = dt.strptime(dt.now().strftime(\"%Y-%m-%d %H:00:00\"),\"%Y-%m-%d %H:00:00\")\n",
    "timestamp_list = [{'from': dt.timestamp(now - td(days=(x+1)*60)), 'to': dt.timestamp(now - td(days=x*60))} for x in reversed(range(config['range']))]\n",
    "\n",
    "print(timestamp_list)"
   ]
  },
  {
   "cell_type": "code",
   "execution_count": 4,
   "id": "b88df59f-84ea-4f21-88c9-a511d2bb8ef2",
   "metadata": {},
   "outputs": [
    {
     "name": "stdout",
     "output_type": "stream",
     "text": [
      "[  244.2709       243.20065485   234.5253     ... 60767.15503357\n",
      " 60950.81919978 61185.32028944]\n",
      "[1.06548662e+08 9.37494352e+07 1.10710603e+08 ... 3.63370907e+10\n",
      " 3.63159899e+10 3.61392227e+10]\n"
     ]
    }
   ],
   "source": [
    "cg = CoinGeckoAPI()\n",
    "temp_closes = []\n",
    "temp_volumes = []\n",
    "temp_timestamp = []\n",
    "\n",
    "# bitcoin_close = pd.read_csv('bitcoin_close_full.csv')\n",
    "\n",
    "for timestamp in timestamp_list:\n",
    "    mk_chart = cg.get_coin_market_chart_range_by_id(id=config['id'], vs_currency=config['vs_curr'], from_timestamp=timestamp['from'], to_timestamp=timestamp['to'])\n",
    "    for i in range(len(mk_chart['prices'])):\n",
    "        temp_closes.append(mk_chart['prices'][i][1])\n",
    "        temp_timestamp.append(dt.fromtimestamp(mk_chart['prices'][i][0]/1000))\n",
    "        temp_volumes.append(mk_chart['total_volumes'][i][1])\n",
    "\n",
    "closes = np.array(temp_closes)\n",
    "dates = np.array(temp_timestamp)\n",
    "volumes = np.array(temp_volumes)\n",
    "# closes = np.array(bitcoin_close['closes'])\n",
    "# volumes = np.array(bitcoin_close['volumes'])\n",
    "\n",
    "print(closes)\n",
    "print(volumes)"
   ]
  },
  {
   "cell_type": "code",
   "execution_count": 5,
   "id": "9989d38f-2313-4684-bacd-804adf1379ff",
   "metadata": {},
   "outputs": [],
   "source": [
    "sma_200 = ta.ROC(ta.SMA(closes, 200), timeperiod=1)\n",
    "ema_8 = ta.ROC(ta.EMA(closes, 8), timeperiod=1)\n",
    "ema_20 = ta.ROC(ta.EMA(closes, 20), timeperiod=1)\n",
    "ema_25 = ta.ROC(ta.EMA(closes, 25), timeperiod=1)\n",
    "ema_30 = ta.ROC(ta.EMA(closes, 30), timeperiod=1)\n",
    "ema_35 = ta.ROC(ta.EMA(closes, 35), timeperiod=1)\n",
    "ema_40 = ta.ROC(ta.EMA(closes, 40), timeperiod=1)\n",
    "ema_45 = ta.ROC(ta.EMA(closes, 45), timeperiod=1)\n",
    "ema_50 = ta.ROC(ta.EMA(closes, 50), timeperiod=1)\n",
    "sma_vol = ta.ROC(ta.SMA(volumes, 20), timeperiod=1)\n",
    "# bbands_up, bbands_mid, bbands_low = ta.BBANDS(closes, timeperiod=20, nbdevup=2, nbdevdn=2, matype=0)\n",
    "roc = ta.ROC(closes, timeperiod=1)\n",
    "cmo = ta.CMO(closes, timeperiod=14)\n",
    "macd, macdsignal, macdhist = ta.MACD(closes, fastperiod=12, slowperiod=26, signalperiod=9)\n",
    "macdhist = ta.ROC(macdhist, timeperiod=1)\n",
    "ppo = ta.PPO(closes, fastperiod=12, slowperiod=26, matype=0)\n",
    "linearreg = ta.LINEARREG(closes, timeperiod=14)\n",
    "tsf = ta.TSF(closes, timeperiod=14)"
   ]
  },
  {
   "cell_type": "code",
   "execution_count": 6,
   "id": "defe1e37-dff7-49cf-9f30-8b4fe027dece",
   "metadata": {},
   "outputs": [
    {
     "name": "stdout",
     "output_type": "stream",
     "text": [
      "30081\n"
     ]
    }
   ],
   "source": [
    "class_data = []\n",
    "roc = ta.ROC(closes, timeperiod=1)\n",
    "\n",
    "for n in range(0,len(roc)):\n",
    "    if n + 5 < len(roc):\n",
    "        if roc[n] < 0 and roc[n+1] < 0 and roc[n+2] < 0 and roc[n+3] < 0 and roc[n+4] < 0 and roc[n+5]:\n",
    "            class_data.append('VLOW')\n",
    "        elif roc[n] < 0 and roc[n+1] < 0 and roc[n+2] < 0:\n",
    "            class_data.append('LOW')\n",
    "        elif roc[n] > 0 and roc[n+1] > 0 and roc[n+2] > 0 and roc[n+3] > 0 and roc[n+4] > 0 and roc[n+5]:\n",
    "            class_data.append('VHIGH')\n",
    "        elif roc[n] > 0 and roc[n+1] > 0 and roc[n+2] > 0:\n",
    "            class_data.append('HIGH')\n",
    "        else:\n",
    "            class_data.append('NEUTRAL')\n",
    "            \n",
    "print(len(class_data))"
   ]
  },
  {
   "cell_type": "code",
   "execution_count": 7,
   "id": "2f5ef5f1-bc37-4715-842f-31f3f0626ecf",
   "metadata": {},
   "outputs": [
    {
     "name": "stdout",
     "output_type": "stream",
     "text": [
      "        sma_200     ema_8    ema_20    ema_25    ema_30    ema_35    ema_40  \\\n",
      "0      0.082121  1.113726  0.898654  0.822114  0.752451  0.689303  0.632477   \n",
      "1      0.085778  0.918847  0.833647  0.775431  0.717906  0.663256  0.612591   \n",
      "2      0.122098  1.454532  1.082362  0.983777  0.898506  0.823368  0.756792   \n",
      "3      0.135912  1.813851  1.282965  1.156504  1.051171  0.960714  0.881920   \n",
      "4      0.157913  2.184190  1.506989  1.351232  1.224271  1.117026  1.024697   \n",
      "...         ...       ...       ...       ...       ...       ...       ...   \n",
      "29875  0.005357  0.076296  0.082020  0.070789  0.060964  0.052944  0.046534   \n",
      "29876  0.006016  0.085184  0.085300  0.074311  0.064558  0.056489  0.049963   \n",
      "29877  0.003267 -0.117699 -0.002105  0.004511  0.006625  0.007043  0.006862   \n",
      "29878  0.004103 -0.056183  0.013356  0.016498  0.016547  0.015566  0.014355   \n",
      "29879  0.002314 -0.190540 -0.051043 -0.035796 -0.027334 -0.022175 -0.018729   \n",
      "\n",
      "         ema_45    ema_50   sma_vol       roc        cmo        macd  \\\n",
      "0      0.581712  0.536627  6.489394  0.633454  54.537814   10.700774   \n",
      "1      0.566402  0.524774  2.279184  0.269325  55.245906   11.183442   \n",
      "2      0.697781  0.645535  5.396780  3.254985  62.806155   12.175516   \n",
      "3      0.812846  0.752113  7.136861  2.994206  68.286154   13.518194   \n",
      "4      0.944392  0.874134  9.981626  3.382563  73.228604   15.235411   \n",
      "...         ...       ...       ...       ...        ...         ...   \n",
      "29875  0.041415  0.037289  0.627652 -0.041429  13.380222  209.312128   \n",
      "29876  0.044696  0.040411  0.586251  0.116186  14.921081  224.868396   \n",
      "29877  0.006508  0.006135  0.473403 -0.825077   1.145141  193.690647   \n",
      "29878  0.013203  0.012188  0.463869  0.160269   3.543935  174.916840   \n",
      "29879 -0.016238 -0.014329  0.414299 -0.661981  -6.558173  125.695342   \n",
      "\n",
      "       macdsignal    macdhist       ppo     linearreg           tsf    trend  \n",
      "0        8.267291    3.630502  5.531060    283.504887    286.270139    VHIGH  \n",
      "1        8.850522   -4.132435  5.814682    285.791834    288.469916     HIGH  \n",
      "2        9.515521   14.019979  6.211315    289.875544    292.682940     HIGH  \n",
      "3       10.316055   20.381348  6.489754    295.401911    298.499726  NEUTRAL  \n",
      "4       11.299926   22.901752  6.701644    302.390137    305.911660  NEUTRAL  \n",
      "...           ...         ...       ...           ...           ...      ...  \n",
      "29875   68.642258  -12.225380  0.384054  62022.354265  62121.314439  NEUTRAL  \n",
      "29876   99.887486  -11.153035  0.381768  62178.777516  62294.923393  NEUTRAL  \n",
      "29877  118.648118  -39.956807  0.458669  62214.554295  62337.158605  NEUTRAL  \n",
      "29878  129.901862  -40.014045  0.608697  62244.203128  62368.628958      LOW  \n",
      "29879  129.060558 -107.475770  0.621531  62038.378301  62123.376708  NEUTRAL  \n",
      "\n",
      "[29880 rows x 19 columns]\n"
     ]
    }
   ],
   "source": [
    "dt = pd.DataFrame({\n",
    "    'sma_200': sma_200[200:-6],\n",
    "    'ema_8': ema_8[200:-6],\n",
    "    'ema_20': ema_20[200:-6],\n",
    "    'ema_25': ema_25[200:-6],\n",
    "    'ema_30': ema_30[200:-6],\n",
    "    'ema_35': ema_35[200:-6],\n",
    "    'ema_40': ema_40[200:-6],\n",
    "    'ema_45': ema_45[200:-6],\n",
    "    'ema_50': ema_50[200:-6],\n",
    "    'sma_vol': sma_vol[200:-6],\n",
    "    'roc': roc[200:-6],\n",
    "    'cmo': cmo[200:-6],\n",
    "    'macd': macd[200:-6],\n",
    "    'macdsignal': macdsignal[200:-6],\n",
    "    'macdhist': macdhist[200:-6],\n",
    "    'ppo': ppo[200:-6],\n",
    "    'linearreg': linearreg[200:-6],\n",
    "    'tsf': tsf[200:-6],\n",
    "    'trend': np.array(class_data[201::]) # tirado 5 valores do final\n",
    "})\n",
    "\n",
    "dt.describe()\n",
    "print(dt)"
   ]
  },
  {
   "cell_type": "code",
   "execution_count": 8,
   "id": "8870ecd3-c22a-4c1d-9752-0c6ed7c6c7ba",
   "metadata": {},
   "outputs": [],
   "source": [
    "# dt.to_csv(config['save_csv_path'], index=False)"
   ]
  },
  {
   "cell_type": "code",
   "execution_count": 9,
   "id": "8d576c8a-b248-4388-820c-f0430216617c",
   "metadata": {},
   "outputs": [],
   "source": [
    "orig_dt = pd.DataFrame({'closes': closes, 'dates': dates, 'volumes': volumes})\n",
    "orig_dt.to_csv('bitcoin_close_full.csv', index=False)"
   ]
  }
 ],
 "metadata": {
  "interpreter": {
   "hash": "d2298aca2e0b0b1ed05a32514a854c88eb925bb4c8272382ca9ed4a75c32109e"
  },
  "kernelspec": {
   "display_name": "Python 3.8.10 64-bit ('lab': virtualenv)",
   "name": "python3"
  },
  "language_info": {
   "codemirror_mode": {
    "name": "ipython",
    "version": 3
   },
   "file_extension": ".py",
   "mimetype": "text/x-python",
   "name": "python",
   "nbconvert_exporter": "python",
   "pygments_lexer": "ipython3",
   "version": "3.8.10"
  }
 },
 "nbformat": 4,
 "nbformat_minor": 5
}
