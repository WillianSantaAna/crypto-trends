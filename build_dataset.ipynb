{
 "cells": [
  {
   "cell_type": "code",
   "execution_count": 1,
   "id": "0add46cf-1fae-4ddb-9f95-b726281d906c",
   "metadata": {},
   "outputs": [],
   "source": [
    "import pandas as pd\n",
    "import numpy as np\n",
    "import talib as ta\n",
    "from pycoingecko import CoinGeckoAPI\n",
    "from datetime import datetime as dt, timedelta as td\n",
    "from sklearn.preprocessing import StandardScaler as ss, MinMaxScaler as mms"
   ]
  },
  {
   "cell_type": "code",
   "execution_count": 2,
   "id": "f86145f4-f3e3-43e9-a209-7c93574327cb",
   "metadata": {},
   "outputs": [],
   "source": [
    "config = {\n",
    "    'id': 'bitcoin',\n",
    "    'vs_curr': 'usd',\n",
    "    'range': 24, # max 24\n",
    "    'save_csv_path': 'dataset3/crypto_ta_btc.csv'\n",
    "}"
   ]
  },
  {
   "cell_type": "code",
   "execution_count": 3,
   "id": "d28554d4-ab21-41bd-932a-0971f3780505",
   "metadata": {},
   "outputs": [
    {
     "name": "stdout",
     "output_type": "stream",
     "text": [
      "[{'from': 1443290400.0, 'to': 1451070000.0}, {'from': 1451070000.0, 'to': 1458846000.0}, {'from': 1458846000.0, 'to': 1466618400.0}, {'from': 1466618400.0, 'to': 1474394400.0}, {'from': 1474394400.0, 'to': 1482174000.0}, {'from': 1482174000.0, 'to': 1489950000.0}, {'from': 1489950000.0, 'to': 1497722400.0}, {'from': 1497722400.0, 'to': 1505498400.0}, {'from': 1505498400.0, 'to': 1513278000.0}, {'from': 1513278000.0, 'to': 1521054000.0}, {'from': 1521054000.0, 'to': 1528826400.0}, {'from': 1528826400.0, 'to': 1536602400.0}, {'from': 1536602400.0, 'to': 1544382000.0}, {'from': 1544382000.0, 'to': 1552158000.0}, {'from': 1552158000.0, 'to': 1559930400.0}, {'from': 1559930400.0, 'to': 1567706400.0}, {'from': 1567706400.0, 'to': 1575486000.0}, {'from': 1575486000.0, 'to': 1583262000.0}, {'from': 1583262000.0, 'to': 1591034400.0}, {'from': 1591034400.0, 'to': 1598810400.0}, {'from': 1598810400.0, 'to': 1606590000.0}, {'from': 1606590000.0, 'to': 1614366000.0}, {'from': 1614366000.0, 'to': 1622138400.0}, {'from': 1622138400.0, 'to': 1629914400.0}]\n"
     ]
    }
   ],
   "source": [
    "now = dt.strptime(dt.now().strftime(\"%Y-%m-%d %H:00:00\"),\"%Y-%m-%d %H:00:00\")\n",
    "timestamp_list = [{'from': dt.timestamp(now - td(days=(x+1)*90)), 'to': dt.timestamp(now - td(days=x*90))} for x in reversed(range(config['range']))]\n",
    "\n",
    "print(timestamp_list)"
   ]
  },
  {
   "cell_type": "code",
   "execution_count": 4,
   "id": "b88df59f-84ea-4f21-88c9-a511d2bb8ef2",
   "metadata": {},
   "outputs": [
    {
     "name": "stdout",
     "output_type": "stream",
     "text": [
      "[  232.8347       239.2765       237.2262     ... 48494.59325882\n",
      " 48742.85846749 48714.4185389 ]\n",
      "[7.57765266e+07 2.45683532e+08 1.15160471e+08 ... 3.52250915e+10\n",
      " 3.50337362e+10 3.37745393e+10]\n"
     ]
    }
   ],
   "source": [
    "cg = CoinGeckoAPI()\n",
    "temp_closes = []\n",
    "temp_volumes = []\n",
    "\n",
    "for timestamp in timestamp_list:\n",
    "    mk_chart = cg.get_coin_market_chart_range_by_id(id=config['id'], vs_currency=config['vs_curr'], from_timestamp=timestamp['from'], to_timestamp=timestamp['to'])\n",
    "    for i in range(len(mk_chart['prices'])):\n",
    "        temp_closes.append(mk_chart['prices'][i][1])\n",
    "        temp_volumes.append(mk_chart['total_volumes'][i][1])\n",
    "\n",
    "closes = np.array(temp_closes)\n",
    "volumes = np.array(temp_volumes)\n",
    "\n",
    "print(closes)\n",
    "print(volumes)"
   ]
  },
  {
   "cell_type": "code",
   "execution_count": 5,
   "id": "9989d38f-2313-4684-bacd-804adf1379ff",
   "metadata": {},
   "outputs": [],
   "source": [
    "sma_7 = ta.ROC(ta.SMA(closes, 7), timeperiod=1)\n",
    "sma_25 = ta.ROC(ta.SMA(closes, 25), timeperiod=1)\n",
    "sma_99 = ta.ROC(ta.SMA(closes, 99), timeperiod=1)\n",
    "sma_200 = ta.ROC(ta.SMA(closes, 200), timeperiod=1)\n",
    "ema_9 = ta.ROC(ta.EMA(closes, 9), timeperiod=1)\n",
    "ema_26 = ta.ROC(ta.EMA(closes, 26), timeperiod=1)\n",
    "sma_vol = ta.ROC(ta.SMA(volumes, 20), timeperiod=1)\n",
    "bbands_up, bbands_mid, bbands_low = ta.BBANDS(closes, timeperiod=20, nbdevup=2, nbdevdn=2, matype=0)\n",
    "bbands_up = ta.ROC(bbands_up, timeperiod=1)\n",
    "bbands_mid = ta.ROC(bbands_mid, timeperiod=1)\n",
    "bbands_low = ta.ROC(bbands_low, timeperiod=1)\n",
    "rsi = ta.RSI(closes, 14)\n",
    "cmo = ta.CMO(closes, timeperiod=14)\n",
    "macd, macdsignal, macdhist = ta.MACD(closes, fastperiod=12, slowperiod=26, signalperiod=9)\n",
    "ppo = ta.PPO(closes, fastperiod=12, slowperiod=26, matype=0)\n",
    "roc = ta.ROC(closes, timeperiod=1)\n",
    "rocr = ta.ROCR(closes, timeperiod=1)\n",
    "linearreg = ta.ROC(ta.LINEARREG(closes, timeperiod=14), timeperiod=1)\n",
    "tsf = ta.ROC(ta.TSF(closes, timeperiod=14), timeperiod=1)"
   ]
  },
  {
   "cell_type": "code",
   "execution_count": 6,
   "id": "defe1e37-dff7-49cf-9f30-8b4fe027dece",
   "metadata": {},
   "outputs": [],
   "source": [
    "class_data = []\n",
    "\n",
    "for n in ta.ROC(closes, timeperiod=24):\n",
    "    if n < -3:\n",
    "        class_data.append('V_LOW')\n",
    "    elif -3 <= n <= 0:\n",
    "        class_data.append('LOW')\n",
    "    elif 0 < n <= 3:\n",
    "        class_data.append('HIGH')\n",
    "    else:\n",
    "        class_data.append('V_HIGH')"
   ]
  },
  {
   "cell_type": "code",
   "execution_count": 7,
   "id": "2f5ef5f1-bc37-4715-842f-31f3f0626ecf",
   "metadata": {},
   "outputs": [
    {
     "name": "stdout",
     "output_type": "stream",
     "text": [
      "          sma_7    sma_25    sma_99   sma_200     ema_8    ema_20    sma_vol  \\\n",
      "0      0.389069  0.180146 -0.065214  0.251872  0.382682  0.219033  -3.532641   \n",
      "1      0.498987  0.138913 -0.058568  0.255225  0.347571  0.219784  -7.599545   \n",
      "2      0.231342  0.094671 -0.051021  0.252297  0.117309  0.132675  -8.452679   \n",
      "3      0.198266  0.129483 -0.046158  0.250075  0.116104  0.130672 -12.107501   \n",
      "4      0.340448  0.195801 -0.029580  0.260357  0.499679  0.295022 -11.063468   \n",
      "...         ...       ...       ...       ...       ...       ...        ...   \n",
      "22700 -0.155741 -0.137875 -0.024924  0.012674 -0.104886 -0.113915  -0.394903   \n",
      "22701 -0.205752 -0.125204 -0.019734  0.015449  0.050839 -0.046804  -0.509280   \n",
      "22702 -0.174705 -0.112871 -0.025720  0.016703  0.013208 -0.053574  -0.610728   \n",
      "22703  0.082261 -0.004702 -0.001615  0.027847  0.322070  0.084389  -0.567466   \n",
      "22704  0.415341  0.002867 -0.009235  0.029517  0.364738  0.125434  -0.689503   \n",
      "\n",
      "       bbands_up  bbands_mid  bbands_low  ...        cmo        macd  \\\n",
      "0       0.385451    0.157722   -0.078178  ...  25.485288    2.719071   \n",
      "1       0.279253    0.066455   -0.155002  ...  27.317637    3.153088   \n",
      "2       0.170194    0.062599   -0.049862  ...  17.979856    3.224742   \n",
      "3       0.176183    0.153805    0.130365  ...  19.031101    3.282343   \n",
      "4       0.484177    0.281719    0.069544  ...  33.989614    3.917394   \n",
      "...          ...         ...         ...  ...        ...         ...   \n",
      "22700  -0.029994   -0.079992   -0.131461  ... -22.501102 -355.106432   \n",
      "22701  -0.013500   -0.023148   -0.033089  ... -11.950407 -330.345901   \n",
      "22702  -0.022499   -0.034553   -0.046976  ... -13.543708 -311.696727   \n",
      "22703   0.090264    0.038486   -0.014893  ...   7.758766 -240.030070   \n",
      "22704   0.087666    0.022649   -0.044449  ...  14.177349 -161.340963   \n",
      "\n",
      "       macdsignal    macdhist       ppo       roc      rocr  linearreg  \\\n",
      "0        1.913054    0.806017  0.679918  1.184660  1.011847   0.406313   \n",
      "1        2.161061    0.992028  0.725128  0.226762  1.002268   0.472719   \n",
      "2        2.373797    0.850945  0.724181 -0.676195  0.993238   0.170529   \n",
      "3        2.555506    0.726837  0.763782  0.111909  1.001119   0.175099   \n",
      "4        2.827884    1.089510  0.868475  1.835214  1.018352   0.692356   \n",
      "...           ...         ...       ...       ...       ...        ...   \n",
      "22700 -315.619217  -39.487215 -0.584699  0.064799  1.000648  -0.189595   \n",
      "22701 -318.564554  -11.781347 -0.530143  0.598464  1.005985   0.033310   \n",
      "22702 -317.190988    5.494262 -0.450203 -0.118201  0.998818  -0.122086   \n",
      "22703 -301.758805   61.728734 -0.359674  1.402444  1.014024   0.356974   \n",
      "22704 -273.675236  112.334273 -0.270620  0.511944  1.005119   0.436623   \n",
      "\n",
      "            tsf  trend  \n",
      "0      0.434088   HIGH  \n",
      "1      0.515619    LOW  \n",
      "2      0.171168   HIGH  \n",
      "3      0.178451   HIGH  \n",
      "4      0.762307   HIGH  \n",
      "...         ...    ...  \n",
      "22700 -0.205185   HIGH  \n",
      "22701  0.048311    LOW  \n",
      "22702 -0.141452   HIGH  \n",
      "22703  0.405522   HIGH  \n",
      "22704  0.488908    LOW  \n",
      "\n",
      "[22705 rows x 21 columns]\n"
     ]
    }
   ],
   "source": [
    "dt = pd.DataFrame({\n",
    "    'sma_7': sma_7[201:-1],\n",
    "    'sma_25': sma_25[201:-1],\n",
    "    'sma_99': sma_99[201:-1],\n",
    "    'sma_200': sma_200[201:-1],\n",
    "    'ema_8': ema_8[201:-1],\n",
    "    'ema_20': ema_20[201:-1],\n",
    "    'sma_vol': sma_vol[201:-1],\n",
    "    'bbands_up': bbands_up[201:-1],\n",
    "    'bbands_mid': bbands_mid[201:-1],\n",
    "    'bbands_low': bbands_low[201:-1],\n",
    "    'rsi': rsi[201:-1],\n",
    "    'cmo': cmo[201:-1],\n",
    "    'macd': macd[201:-1],\n",
    "    'macdsignal': macdsignal[201:-1],\n",
    "    'macdhist': macdhist[201:-1],\n",
    "    'ppo': ppo[201:-1],\n",
    "    'roc': roc[201:-1],\n",
    "    'rocr': rocr[201:-1],\n",
    "    'linearreg': linearreg[201:-1],\n",
    "    'tsf': tsf[201:-1],\n",
    "    'trend': np.array(class_data[202::])\n",
    "})\n",
    "\n",
    "dt.describe()\n",
    "print(dt)"
   ]
  },
  {
   "cell_type": "code",
   "execution_count": 8,
   "id": "8870ecd3-c22a-4c1d-9752-0c6ed7c6c7ba",
   "metadata": {},
   "outputs": [],
   "source": [
    "dt.to_csv(config['save_csv_path'], index=False)"
   ]
  },
  {
   "cell_type": "code",
   "execution_count": null,
   "id": "8d576c8a-b248-4388-820c-f0430216617c",
   "metadata": {},
   "outputs": [],
   "source": []
  }
 ],
 "metadata": {
  "kernelspec": {
   "display_name": "Python 3 (ipykernel)",
   "language": "python",
   "name": "python3"
  },
  "language_info": {
   "codemirror_mode": {
    "name": "ipython",
    "version": 3
   },
   "file_extension": ".py",
   "mimetype": "text/x-python",
   "name": "python",
   "nbconvert_exporter": "python",
   "pygments_lexer": "ipython3",
   "version": "3.8.10"
  }
 },
 "nbformat": 4,
 "nbformat_minor": 5
}
