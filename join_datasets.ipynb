{
 "cells": [
  {
   "cell_type": "code",
   "execution_count": 1,
   "id": "eb1a223a-145c-4423-815f-ba53fe123c73",
   "metadata": {},
   "outputs": [],
   "source": [
    "import pandas as pd\n",
    "import numpy as np"
   ]
  },
  {
   "cell_type": "code",
   "execution_count": 2,
   "id": "52348c30-a15c-47b8-a177-9cd05e00a698",
   "metadata": {},
   "outputs": [],
   "source": [
    "paths = [\n",
    "    'new_dataset/crypto_ta_ada.csv',\n",
    "    'new_dataset/crypto_ta_atom.csv',\n",
    "    'new_dataset/crypto_ta_bch.csv',\n",
    "    'new_dataset/crypto_ta_bnb.csv',\n",
    "    'new_dataset/crypto_ta_btc.csv',\n",
    "    'new_dataset/crypto_ta_dash.csv',\n",
    "    'new_dataset/crypto_ta_doge.csv',\n",
    "    'new_dataset/crypto_ta_dot.csv',\n",
    "    'new_dataset/crypto_ta_eos.csv',\n",
    "    'new_dataset/crypto_ta_etc.csv',\n",
    "    'new_dataset/crypto_ta_eth.csv',\n",
    "    'new_dataset/crypto_ta_link.csv',\n",
    "    'new_dataset/crypto_ta_ltc.csv',\n",
    "    'new_dataset/crypto_ta_mana.csv',\n",
    "    'new_dataset/crypto_ta_neo.csv',\n",
    "    'new_dataset/crypto_ta_sol.csv',\n",
    "    'new_dataset/crypto_ta_trx.csv',\n",
    "    'new_dataset/crypto_ta_uni.csv',\n",
    "    'new_dataset/crypto_ta_xem.csv',\n",
    "    'new_dataset/crypto_ta_xlm.csv',\n",
    "    'new_dataset/crypto_ta_xmr.csv',\n",
    "    'new_dataset/crypto_ta_xrp.csv'\n",
    "]\n",
    "dfs = []"
   ]
  },
  {
   "cell_type": "code",
   "execution_count": 3,
   "id": "eb17ddd4-55e9-46fe-93d8-92be87801c1e",
   "metadata": {},
   "outputs": [
    {
     "name": "stdout",
     "output_type": "stream",
     "text": [
      "          sma_7    sma_25    sma_99     ema_9    ema_26  bbands_up  \\\n",
      "0     -1.017015 -0.621847  1.868174 -1.054717 -0.738997  -4.985440   \n",
      "1     -2.469925 -0.899826  1.838216 -0.702740 -0.636711  -5.192670   \n",
      "2      0.036009 -2.219635  1.825733 -0.407316 -0.537626  -3.326950   \n",
      "3      0.259357 -2.994936  1.681860 -1.516011 -0.917876  -2.041755   \n",
      "4      0.537361 -2.577087  1.645926 -1.374712 -0.907743  -1.430965   \n",
      "...         ...       ...       ...       ...       ...        ...   \n",
      "22799  0.693218  0.741808  0.424687  0.403788  0.602877   0.681904   \n",
      "22800  0.486694  0.774406  0.438340  0.492059  0.621611   0.695711   \n",
      "22801  0.271353  0.673208  0.412203  0.118277  0.465010  -0.103324   \n",
      "22802 -0.550052  0.287416  0.347326 -0.831976  0.067283  -0.296197   \n",
      "22803 -0.433371  0.333583  0.372407 -0.118390  0.275878  -0.460512   \n",
      "\n",
      "       bbands_mid  bbands_low        rsi        cmo      macd  macdsignal  \\\n",
      "0       -3.060308    1.484329  45.878730  -8.242540 -0.017519    0.014911   \n",
      "1       -2.851427    2.323170  46.229466  -7.541068 -0.019516    0.008025   \n",
      "2       -2.138029    0.296704  46.621149  -6.757702 -0.020450    0.002330   \n",
      "3       -1.920929   -1.682435  44.045872 -11.908256 -0.023989   -0.002934   \n",
      "4       -1.634870   -2.035879  43.737148 -12.525704 -0.026849   -0.007717   \n",
      "...           ...         ...        ...        ...       ...         ...   \n",
      "22799    0.579506    0.454423  70.502727  41.005454  0.056551    0.052607   \n",
      "22800    0.618411    0.523774  71.840917  43.681833  0.055999    0.053285   \n",
      "22801    0.744765    1.784845  66.592170  33.184341  0.053517    0.053332   \n",
      "22802    0.352397    1.133064  52.562923   5.125846  0.046175    0.051901   \n",
      "22803    0.547332    1.743260  58.177156  16.354312  0.042730    0.050066   \n",
      "\n",
      "       macdhist        ppo       roc      rocr  linearreg       tsf   trend  \n",
      "0     -0.032430 -18.976622 -2.976260  0.970237   2.271697  3.471789    HIGH  \n",
      "1     -0.027542 -20.550487  0.783546  1.007835   3.569632  4.908789    HIGH  \n",
      "2     -0.022781 -19.950840  0.817417  1.008174   2.845374  3.772130   V_LOW  \n",
      "3     -0.021055 -18.648722 -6.042987  0.939570   1.665701  2.381135     LOW  \n",
      "4     -0.019132 -17.115838 -0.763162  0.992368  -1.820692 -2.024366   V_LOW  \n",
      "...         ...        ...       ...       ...        ...       ...     ...  \n",
      "22799  0.003944   5.215656 -0.092561  0.999074   0.538232  0.538424    HIGH  \n",
      "22800  0.002714   5.157983  0.838156  1.008382   0.518489  0.505217     LOW  \n",
      "22801  0.000186   4.919197 -1.340948  0.986591   0.168125  0.135982   V_LOW  \n",
      "22802 -0.005725   4.508339 -4.610644  0.953894  -1.333613 -1.551040    HIGH  \n",
      "22803 -0.007337   4.565174  2.859846  1.028598  -0.529864 -0.646620  V_HIGH  \n",
      "\n",
      "[444361 rows x 19 columns]\n"
     ]
    }
   ],
   "source": [
    "for path in paths:\n",
    "    dfs.append(pd.read_csv(path))\n",
    "\n",
    "\n",
    "df_union = pd.concat(dfs)\n",
    "print(df_union)"
   ]
  },
  {
   "cell_type": "code",
   "execution_count": 4,
   "id": "b727d625-9c5a-40fe-b8d4-c4ba00663adc",
   "metadata": {},
   "outputs": [],
   "source": [
    "# df_union.to_csv('new_dataset/crypto_ta2.csv', index=False)"
   ]
  },
  {
   "cell_type": "code",
   "execution_count": 5,
   "id": "107fa765-fc3a-4b1c-8f55-ea7281eb1eb6",
   "metadata": {},
   "outputs": [
    {
     "name": "stdout",
     "output_type": "stream",
     "text": [
      "444361\n"
     ]
    }
   ],
   "source": [
    "print(len(df_union['rsi']))"
   ]
  },
  {
   "cell_type": "code",
   "execution_count": null,
   "id": "4b43669c-e7ea-4022-9da4-063578edf6e7",
   "metadata": {},
   "outputs": [],
   "source": []
  }
 ],
 "metadata": {
  "kernelspec": {
   "display_name": "Python 3",
   "language": "python",
   "name": "python3"
  },
  "language_info": {
   "codemirror_mode": {
    "name": "ipython",
    "version": 3
   },
   "file_extension": ".py",
   "mimetype": "text/x-python",
   "name": "python",
   "nbconvert_exporter": "python",
   "pygments_lexer": "ipython3",
   "version": "3.8.10"
  }
 },
 "nbformat": 4,
 "nbformat_minor": 5
}
